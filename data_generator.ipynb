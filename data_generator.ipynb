{
 "cells": [
  {
   "cell_type": "code",
   "execution_count": 48,
   "metadata": {},
   "outputs": [],
   "source": [
    "import numpy as np\n",
    "import pandas as pd\n",
    "import random\n"
   ]
  },
  {
   "cell_type": "code",
   "execution_count": 49,
   "metadata": {},
   "outputs": [],
   "source": [
    "star = [0 for i in range(1000)]\n",
    "price = [0 for i in range(1000)]\n",
    "closest_station = [0 for i in range(1000)]\n",
    "pay_first = [0 for i in range(1000)]\n",
    "accept = [0 for i in range(1000)]\n",
    "\n",
    "for i in range(1000):\n",
    "    star[i] = np.random.randint(1,6)\n",
    "    price[i] = np.random.randint(500, 3000)\n",
    "    closest_station[i] = np.random.randint(20, 1000)\n",
    "    pay_first[i] = bool(random.getrandbits(1))\n",
    "\n",
    "for i in range(1000):\n",
    "    if (star[i] >= 3 and price[i] <= 2000 and closest_station[i] <= 200 and pay_first[i] == False):\n",
    "        accept[i] = 1\n",
    "    else:\n",
    "        accept[i] = 0\n",
    "        "
   ]
  },
  {
   "cell_type": "code",
   "execution_count": 50,
   "metadata": {},
   "outputs": [],
   "source": [
    "df_train = pd.DataFrame({\"star\": pd.Series(star),\n",
    "                   \"price\": pd.Series(price),\n",
    "                   \"closest station\": pd.Series(closest_station),\n",
    "                   \"pay first\": pd.Series(pay_first),\n",
    "                   \"accept\": pd.Series(accept)})\n",
    "                \n",
    "df_train.to_csv(\"data_train.csv\", index=False)"
   ]
  },
  {
   "cell_type": "code",
   "execution_count": 51,
   "metadata": {},
   "outputs": [],
   "source": [
    "star = [0 for i in range(500)]\n",
    "price = [0 for i in range(500)]\n",
    "closest_station = [0 for i in range(500)]\n",
    "pay_first = [0 for i in range(500)]\n",
    "accept = [0 for i in range(500)]\n",
    "\n",
    "for i in range(500):\n",
    "    star[i] = np.random.randint(1,6)\n",
    "    price[i] = np.random.randint(500, 3000)\n",
    "    closest_station[i] = np.random.randint(20, 1000)\n",
    "    pay_first[i] = bool(random.getrandbits(1))\n",
    "\n",
    "for i in range(500):\n",
    "    if (star[i] >= 3 and price[i] <= 2000 and closest_station[i] <= 200 and pay_first[i] == False):\n",
    "        accept[i] = 1\n",
    "    else:\n",
    "        accept[i] = 0\n",
    "    "
   ]
  },
  {
   "cell_type": "code",
   "execution_count": 52,
   "metadata": {},
   "outputs": [],
   "source": [
    "df_test = pd.DataFrame({\"star\": pd.Series(star),\n",
    "                   \"price\": pd.Series(price),\n",
    "                   \"closest station\": pd.Series(closest_station),\n",
    "                   \"pay first\": pd.Series(pay_first),\n",
    "                   \"accept\": pd.Series(accept)})\n",
    "                \n",
    "df_test.to_csv(\"data_test_ans.csv\", index=False)"
   ]
  },
  {
   "cell_type": "code",
   "execution_count": null,
   "metadata": {},
   "outputs": [],
   "source": []
  }
 ],
 "metadata": {
  "kernelspec": {
   "display_name": "Python 3",
   "language": "python",
   "name": "python3"
  },
  "language_info": {
   "codemirror_mode": {
    "name": "ipython",
    "version": 3
   },
   "file_extension": ".py",
   "mimetype": "text/x-python",
   "name": "python",
   "nbconvert_exporter": "python",
   "pygments_lexer": "ipython3",
   "version": "3.6.4"
  }
 },
 "nbformat": 4,
 "nbformat_minor": 2
}
